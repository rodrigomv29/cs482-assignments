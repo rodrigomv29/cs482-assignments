{
 "cells": [
  {
   "cell_type": "code",
   "execution_count": 1,
   "metadata": {},
   "outputs": [
    {
     "name": "stdout",
     "output_type": "stream",
     "text": [
      "/c/Users/rodri/Documents/edu/njit/cs482/pantelis/data-mining/cs482-assignments/assignment3\n",
      "avazu-ctr-prediction.zip: Skipping, found more recently modified local copy (use --force to force download)\n"
     ]
    }
   ],
   "source": [
    "!pwd\n",
    "!kaggle competitions download -c avazu-ctr-prediction"
   ]
  },
  {
   "cell_type": "code",
   "execution_count": 2,
   "metadata": {},
   "outputs": [
    {
     "name": "stdout",
     "output_type": "stream",
     "text": [
      "FILE SIZE IS TOO LARGE\n"
     ]
    }
   ],
   "source": [
    "## !unzip avazu-ctr-prediction.zip FILE SIZE IS TOO LARGE\n",
    "print(\"FILE SIZE IS TOO LARGE\")"
   ]
  },
  {
   "cell_type": "code",
   "execution_count": 3,
   "metadata": {},
   "outputs": [],
   "source": [
    "import pandas as pd\n",
    "from zipfile import ZipFile\n",
    "from glob import glob\n",
    "import gzip"
   ]
  },
  {
   "cell_type": "code",
   "execution_count": 4,
   "metadata": {},
   "outputs": [
    {
     "name": "stdout",
     "output_type": "stream",
     "text": [
      "['sampleSubmission.gz', 'test.gz', 'train.gz']\n"
     ]
    }
   ],
   "source": [
    "zip_file = ZipFile('avazu-ctr-prediction.zip')\n",
    "print(zip_file.namelist())"
   ]
  },
  {
   "cell_type": "code",
   "execution_count": 5,
   "metadata": {},
   "outputs": [
    {
     "name": "stdout",
     "output_type": "stream",
     "text": [
      "Index(['id', 'click', 'hour', 'C1', 'banner_pos', 'site_id', 'site_domain',\n",
      "       'site_category', 'app_id', 'app_domain', 'app_category', 'device_id',\n",
      "       'device_ip', 'device_model', 'device_type', 'device_conn_type', 'C14',\n",
      "       'C15', 'C16', 'C17', 'C18', 'C19', 'C20', 'C21'],\n",
      "      dtype='object')\n"
     ]
    }
   ],
   "source": [
    "chunksize = 10 ** 5\n",
    "training_file_name = zip_file.namelist()[2]\n",
    "##zip_file.extractall()\n",
    "frames = []\n",
    "csv_reader = pd.read_csv(training_file_name, compression=\"gzip\", chunksize=chunksize)\n",
    "for chunk in csv_reader:\n",
    "    print(chunk.columns)\n",
    "    break\n",
    "\n",
    "\n"
   ]
  },
  {
   "cell_type": "code",
   "execution_count": null,
   "metadata": {},
   "outputs": [],
   "source": [
    "## REMOVE COLUMNS\n"
   ]
  },
  {
   "cell_type": "code",
   "execution_count": 6,
   "metadata": {},
   "outputs": [],
   "source": [
    "for chunk in csv_reader:\n",
    "    frames.append(chunk)"
   ]
  },
  {
   "cell_type": "code",
   "execution_count": null,
   "metadata": {},
   "outputs": [],
   "source": []
  }
 ],
 "metadata": {
  "kernelspec": {
   "display_name": "assignment3",
   "language": "python",
   "name": "python3"
  },
  "language_info": {
   "codemirror_mode": {
    "name": "ipython",
    "version": 3
   },
   "file_extension": ".py",
   "mimetype": "text/x-python",
   "name": "python",
   "nbconvert_exporter": "python",
   "pygments_lexer": "ipython3",
   "version": "3.9.5"
  }
 },
 "nbformat": 4,
 "nbformat_minor": 2
}
