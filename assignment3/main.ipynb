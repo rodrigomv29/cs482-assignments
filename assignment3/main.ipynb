{
 "cells": [
  {
   "cell_type": "code",
   "execution_count": 1,
   "metadata": {},
   "outputs": [
    {
     "name": "stdout",
     "output_type": "stream",
     "text": [
      "/c/Users/rodri/Documents/edu/njit/cs482/pantelis/data-mining/cs482-assignments/assignment3\n",
      "avazu-ctr-prediction.zip: Skipping, found more recently modified local copy (use --force to force download)\n"
     ]
    }
   ],
   "source": [
    "!pwd\n",
    "!kaggle competitions download -c avazu-ctr-prediction"
   ]
  },
  {
   "cell_type": "code",
   "execution_count": 2,
   "metadata": {},
   "outputs": [
    {
     "name": "stdout",
     "output_type": "stream",
     "text": [
      "FILE SIZE IS TOO LARGE\n"
     ]
    }
   ],
   "source": [
    "## !unzip avazu-ctr-prediction.zip FILE SIZE IS TOO LARGE\n",
    "print(\"FILE SIZE IS TOO LARGE\")"
   ]
  },
  {
   "cell_type": "code",
   "execution_count": 87,
   "metadata": {},
   "outputs": [],
   "source": [
    "import pandas as pd\n",
    "import numpy as np\n",
    "from zipfile import ZipFile\n",
    "from glob import glob\n",
    "import gzip"
   ]
  },
  {
   "cell_type": "code",
   "execution_count": 88,
   "metadata": {},
   "outputs": [
    {
     "name": "stdout",
     "output_type": "stream",
     "text": [
      "['sampleSubmission.gz', 'test.gz', 'train.gz']\n"
     ]
    }
   ],
   "source": [
    "zip_file = ZipFile('avazu-ctr-prediction.zip')\n",
    "print(zip_file.namelist())"
   ]
  },
  {
   "cell_type": "code",
   "execution_count": 120,
   "metadata": {},
   "outputs": [],
   "source": [
    "chunksize = 10 ** 5\n",
    "training_file_name = zip_file.namelist()[2]\n",
    "##zip_file.extractall()\n",
    "log_reg = LogisticRegression(multi_class=\"ovr\",random_state=0, max_iter=10000)\n",
    "csv_reader = pd.read_csv(training_file_name, compression=\"gzip\", chunksize=chunksize)\n",
    "for chunk in csv_reader:\n",
    "    columns_to_drop = [col for col in chunk.columns if not np.issubdtype(chunk[col].dtype, np.int64)]\n",
    "    chunk_filtered = chunk.drop(columns=columns_to_drop)\n",
    "    X=chunk_filtered.drop(columns='click')\n",
    "    y=chunk_filtered['click']\n",
    "    log_reg.fit(X, y)\n",
    "    \n",
    "    "
   ]
  },
  {
   "cell_type": "code",
   "execution_count": 144,
   "metadata": {},
   "outputs": [],
   "source": [
    "test_file_name = zip_file.namelist()[1]\n",
    "csv_reader2 = pd.read_csv(test_file_name, compression=\"gzip\", chunksize=chunksize)\n",
    "for chunk in csv_reader2:\n",
    "    ## print(chunk)\n",
    "    columns_to_drop = [col for col in chunk.columns if not np.issubdtype(chunk[col].dtype, np.int64)]\n",
    "    chunk_filtered = chunk.drop(columns=columns_to_drop)\n",
    "    X_new=chunk_filtered\n",
    "    if(\"id\" in X_new.columns):\n",
    "        X_new = X_new.drop(columns=\"id\")\n",
    "    log_reg.predict(X_new)\n",
    "    \n"
   ]
  }
 ],
 "metadata": {
  "kernelspec": {
   "display_name": "assignment3",
   "language": "python",
   "name": "python3"
  },
  "language_info": {
   "codemirror_mode": {
    "name": "ipython",
    "version": 3
   },
   "file_extension": ".py",
   "mimetype": "text/x-python",
   "name": "python",
   "nbconvert_exporter": "python",
   "pygments_lexer": "ipython3",
   "version": "3.9.5"
  }
 },
 "nbformat": 4,
 "nbformat_minor": 2
}
